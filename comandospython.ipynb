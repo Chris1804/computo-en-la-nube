{
  "nbformat": 4,
  "nbformat_minor": 0,
  "metadata": {
    "colab": {
      "provenance": [],
      "authorship_tag": "ABX9TyM7Sf/UN5kYVm4N6apWmbUt",
      "include_colab_link": true
    },
    "kernelspec": {
      "name": "python3",
      "display_name": "Python 3"
    },
    "language_info": {
      "name": "python"
    }
  },
  "cells": [
    {
      "cell_type": "markdown",
      "metadata": {
        "id": "view-in-github",
        "colab_type": "text"
      },
      "source": [
        "<a href=\"https://colab.research.google.com/github/Chris1804/computo-en-la-nube/blob/main/comandospython.ipynb\" target=\"_parent\"><img src=\"https://colab.research.google.com/assets/colab-badge.svg\" alt=\"Open In Colab\"/></a>"
      ]
    },
    {
      "cell_type": "code",
      "execution_count": null,
      "metadata": {
        "colab": {
          "base_uri": "https://localhost:8080/"
        },
        "id": "C5t7lp2_JSaM",
        "outputId": "b56e524e-b987-42a5-c901-6d9d3eb7e344"
      },
      "outputs": [
        {
          "output_type": "stream",
          "name": "stdout",
          "text": [
            "3 221b Baker Street, NW1 6XE, London {'age': 45, 'role': 'CTO', 'SNN': 'AB123456'}\n"
          ]
        }
      ],
      "source": [
        "n=3\n",
        "adress = \"221b Baker Street, NW1 6XE, London\"\n",
        "employee= {\n",
        "  'age': 45,\n",
        "  'role': 'CTO',\n",
        "  'SNN': 'AB123456'\n",
        "\n",
        "\n",
        "}\n",
        "\n",
        "print (n, adress, employee)"
      ]
    },
    {
      "cell_type": "code",
      "source": [
        "class Bici:\n",
        "    def __init__(self, color, material):\n",
        "        self.color = color\n",
        "        self.material = material\n",
        "\n",
        "    def brake(self):\n",
        "        print('braking')\n",
        "\n",
        "Bici_roja = Bici('roja', 'fibra de carbono')\n",
        "Bici_azul = Bici('azul', 'Acero')\n",
        "\n",
        "print(Bici_roja.color)\n",
        "print(Bici_roja.material)\n",
        "print(Bici_azul.color)\n",
        "print(Bici_azul.material)\n",
        "\n",
        "Bici_roja.brake()"
      ],
      "metadata": {
        "colab": {
          "base_uri": "https://localhost:8080/"
        },
        "id": "fUffWvrXJUEn",
        "outputId": "9a16cf89-1970-4e3d-d540-7b2876ac2321"
      },
      "execution_count": null,
      "outputs": [
        {
          "output_type": "stream",
          "name": "stdout",
          "text": [
            "roja\n",
            "fibra de carbono\n",
            "azul\n",
            "Acero\n",
            "braking\n"
          ]
        }
      ]
    },
    {
      "cell_type": "code",
      "source": [
        "str1 = 'esto es un string. hecho con comillas simples.'\n",
        "str2= \"este es otro string, pero hecho con doble comilla\"\n",
        "str3 = '''Este es hecho usando comillas triples,\n",
        "entonces puedo expandirla a multiples lineas'''\n",
        "\n",
        "str4= \"\"\"este tambien\n",
        "es de varias lineas\n",
        "construido con triple comilla doble \"\"\"\n",
        "\n",
        "\n",
        "\n",
        "print (str4)  #B"
      ],
      "metadata": {
        "colab": {
          "base_uri": "https://localhost:8080/"
        },
        "id": "OpGzIo0BzcYO",
        "outputId": "51c04567-80a7-4489-fc64-e466b9f7e362"
      },
      "execution_count": null,
      "outputs": [
        {
          "output_type": "stream",
          "name": "stdout",
          "text": [
            "este tambien\n",
            "es de varias lineas\n",
            "construido con triple comilla doble \n"
          ]
        }
      ]
    },
    {
      "cell_type": "code",
      "source": [
        "s = 'Hello There'\n",
        "print(s.removeprefix('Hell'))\n",
        "'o There'\n",
        "print(s.removesuffix('here'))\n",
        "'Hello T'\n",
        "print(s.removeprefix('Ooops'))\n",
        "'Hello There'"
      ],
      "metadata": {
        "colab": {
          "base_uri": "https://localhost:8080/",
          "height": 91
        },
        "id": "zIUQ-oWqIKsH",
        "outputId": "54b08c34-b051-4c96-b019-1cfaa0d5dbe1"
      },
      "execution_count": null,
      "outputs": [
        {
          "output_type": "stream",
          "name": "stdout",
          "text": [
            "o There\n",
            "Hello T\n",
            "Hello There\n"
          ]
        },
        {
          "output_type": "execute_result",
          "data": {
            "text/plain": [
              "'Hello There'"
            ],
            "application/vnd.google.colaboratory.intrinsic+json": {
              "type": "string"
            }
          },
          "metadata": {},
          "execution_count": 4
        }
      ]
    },
    {
      "cell_type": "code",
      "source": [
        "s= \"El problema es que piensas que tienes tiempo.\"\n",
        "print(s[0])# indexación en la posición 0, que es el primer carácter\n",
        "print(s[5])# indexación en la posición 5, que es el sexto carácter\n",
        "print(s[:3])# corte, especificamos solo la posición de parada\n",
        "print(s[3:])# corte, especificamos solo la posición inicial\n",
        "print(s[2:14])# corte, en ambas posiciones de inicio y parada\n",
        "print(s[2:14:3])# corte, inicio, parada y paso (cada 3 caracteres)\n",
        "print(s[:]) # forma rápida de hacer una copia"
      ],
      "metadata": {
        "colab": {
          "base_uri": "https://localhost:8080/"
        },
        "id": "6phaOmy4J3R7",
        "outputId": "3943e38c-a0e3-4248-e8da-b8a1269113d9"
      },
      "execution_count": null,
      "outputs": [
        {
          "output_type": "stream",
          "name": "stdout",
          "text": [
            "E\n",
            "o\n",
            "El \n",
            "problema es que piensas que tienes tiempo.\n",
            " problema es\n",
            " oe \n",
            "El problema es que piensas que tienes tiempo.\n"
          ]
        }
      ]
    },
    {
      "cell_type": "code",
      "source": [
        "greet_old = 'Hola %s!'\n",
        "print(greet_old % 'Luffy')\n",
        "\n",
        "greet_positional = 'Hola {}!'\n",
        "print(greet_positional.format('zoro'))\n",
        "\n",
        "greet_positional = 'Hola {} {}!'\n",
        "print(greet_positional.format('Mugiwara', 'Luffy'))\n",
        "\n",
        "greet_positional_idx = 'Esto es {0}! a {1} le gusta {0}!'\n",
        "print (greet_positional_idx.format('Python', 'Nami'))\n",
        "\n",
        "print(greet_positional_idx.format('Café', 'Sanji'))\n",
        "\n",
        "keyword = 'Hola mi nombre es {name} {last_name}'\n",
        "print(keyword.format(name='Leon', last_name='S. Kennedy'))"
      ],
      "metadata": {
        "colab": {
          "base_uri": "https://localhost:8080/"
        },
        "id": "i9App3KgYIDu",
        "outputId": "eef5887b-4f5a-457a-c1b5-b07051f536b0"
      },
      "execution_count": null,
      "outputs": [
        {
          "output_type": "stream",
          "name": "stdout",
          "text": [
            "Hola Luffy!\n",
            "Hola zoro!\n",
            "Hola Mugiwara Luffy!\n",
            "Esto es Python! a Nami le gusta Python!\n",
            "Esto es Café! a Sanji le gusta Café!\n",
            "Hola mi nombre es Leon S. Kennedy\n"
          ]
        }
      ]
    },
    {
      "cell_type": "code",
      "source": [
        "#tupla\n",
        "t = ()\n",
        "type(t)\n",
        "\n",
        "one_element_tuple = (42, ) # you need the comma!\n",
        "three_elements_tuple = (1, 3, 5)\n",
        "\n",
        "a, b, c = 1, 2, 3 # tuple for multiple assignment\n",
        "print(a, b, c )# implicit tuple to print with one instruction\n",
        "(1, 2, 3)\n",
        "print(3 in three_elements_tuple) # membership test\n",
        "\n",
        "a, b = 1, 2\n",
        "c = a # we need three lines and a temporary var c\n",
        "a = b\n",
        "b = c\n",
        "a, b # a and b have been swapped\n",
        "(2, 1)\n",
        "\n",
        "a, b = 0, 1\n",
        "a, b = b, a # this is the Pythonic way to do it\n",
        "print(a, b)\n"
      ],
      "metadata": {
        "colab": {
          "base_uri": "https://localhost:8080/"
        },
        "id": "c-_PAelTiv4T",
        "outputId": "13e0e92e-6f0f-436b-8cc5-2f0b9d7b8982"
      },
      "execution_count": null,
      "outputs": [
        {
          "output_type": "stream",
          "name": "stdout",
          "text": [
            "1 2 3\n",
            "True\n",
            "1 0\n"
          ]
        }
      ]
    },
    {
      "cell_type": "code",
      "source": [
        "#listas\n",
        "[]\n",
        "[1,2,3]\n",
        "print([x + 5 for x in [2,3,4]])\n",
        "list((1,2,3,5,7.9))\n",
        "print (list ('hello'))\n",
        "\n",
        "a= [1,2,1,3]\n",
        "a.append(13)\n",
        "print(a)\n",
        "print(a.count(1)) #cuantos 1 hay en el codigo\n",
        "\n",
        "#listas\n",
        "[]\n",
        "[1,2,3]\n",
        "print([x + 5 for x in [2,3,4]])\n",
        "list((1,2,3,5,7.9))\n",
        "print (list ('hello'))\n",
        "\n",
        "a= [1,2,1,3]\n",
        "a.append(13)\n",
        "print(a)\n",
        "print(a.count(1)) #cuantos 1 hay en el codigo\n",
        "\n",
        "a. extend([5,7])\n",
        "print(a)\n",
        "\n",
        "print(a.index(13))# posición del 13 en a lista\n",
        "\n",
        "a.insert(0,17)# insertar el 17 en la posición 0\n",
        "print(a)\n",
        "\n",
        "print(a.pop()) # regresar y remover el ultimo elemento\n",
        "print(a.pop(3)) # regresar y remover el elemento en la posición 3\n",
        "print(a)\n",
        "a.remove(17) #remover el 17\n",
        "print(a)\n",
        "a.reverse()\n",
        "print(a)\n",
        "a.sort()#ordenar la liste\n",
        "print(a)\n",
        "a.clear()#borra todos los elementos\n",
        "print(a)\n",
        "\n",
        "a= list('hello')\n",
        "print(a)\n",
        "a.append(100)\n",
        "print (a)\n",
        "a.extend((1,2,3))\n",
        "a.extend('...')\n",
        "print(a)"
      ],
      "metadata": {
        "colab": {
          "base_uri": "https://localhost:8080/"
        },
        "id": "KAmYo2r4G5Y_",
        "outputId": "69ca836e-89b1-486c-c9ae-1c3fe59133c4"
      },
      "execution_count": null,
      "outputs": [
        {
          "output_type": "stream",
          "name": "stdout",
          "text": [
            "[7, 8, 9]\n",
            "['h', 'e', 'l', 'l', 'o']\n",
            "[1, 2, 1, 3, 13]\n",
            "2\n",
            "[7, 8, 9]\n",
            "['h', 'e', 'l', 'l', 'o']\n",
            "[1, 2, 1, 3, 13]\n",
            "2\n",
            "[1, 2, 1, 3, 13, 5, 7]\n",
            "4\n",
            "[17, 1, 2, 1, 3, 13, 5, 7]\n",
            "7\n",
            "1\n",
            "[17, 1, 2, 3, 13, 5]\n",
            "[1, 2, 3, 13, 5]\n",
            "[5, 13, 3, 2, 1]\n",
            "[1, 2, 3, 5, 13]\n",
            "[]\n",
            "['h', 'e', 'l', 'l', 'o']\n",
            "['h', 'e', 'l', 'l', 'o', 100]\n",
            "['h', 'e', 'l', 'l', 'o', 100, 1, 2, 3, '.', '.', '.']\n"
          ]
        }
      ]
    },
    {
      "cell_type": "code",
      "source": [
        "#Operaciones con listas\n",
        "a=[1,3,5,7]\n",
        "print(min(a)) # valor minimo de lista\n",
        "print(max(a))# valor maximo\n",
        "print(sum(a))# suma todos los valores de a\n",
        "\n",
        "from math import prod\n",
        "print(prod(a)) #producto de todos los valores en la lista\n",
        "\n",
        "print(len(a))#numero de elementos de la lista\n",
        "\n",
        "b=[6,7,8]\n",
        "print(a+b)# `+` con lista significa encadenamiento\n",
        "\n",
        "print(a*2)#se vuelve a repetir la lista"
      ],
      "metadata": {
        "colab": {
          "base_uri": "https://localhost:8080/"
        },
        "id": "E8p8D220YLqN",
        "outputId": "9490229a-44f2-409c-e30e-1c7475efe2a4"
      },
      "execution_count": null,
      "outputs": [
        {
          "output_type": "stream",
          "name": "stdout",
          "text": [
            "1\n",
            "7\n",
            "16\n",
            "105\n",
            "4\n",
            "[1, 3, 5, 7, 6, 7, 8]\n",
            "[1, 3, 5, 7, 1, 3, 5, 7]\n"
          ]
        }
      ]
    },
    {
      "cell_type": "code",
      "source": [
        "#bytearray\n",
        "print(bytearray(10))# instancia llena de ceros con una longitud determinada\n",
        "\n",
        "print (bytearray(range(5)))# bytarray de enteros\n",
        "\n",
        "name= bytearray(b'Lina')#bytearry de bytes\n",
        "print(name.replace(b'L',b'K'))#Remplaza el valor\n",
        "print(name.upper())#Hace las letras mayusculas\n",
        "print(name.count(b'a'))#cuenta cuantas 'a' hay"
      ],
      "metadata": {
        "colab": {
          "base_uri": "https://localhost:8080/"
        },
        "id": "cmClOlb3idB7",
        "outputId": "8ab3a5e3-9c11-4519-def0-80f756734085"
      },
      "execution_count": null,
      "outputs": [
        {
          "output_type": "stream",
          "name": "stdout",
          "text": [
            "bytearray(b'\\x00\\x00\\x00\\x00\\x00\\x00\\x00\\x00\\x00\\x00')\n",
            "bytearray(b'\\x00\\x01\\x02\\x03\\x04')\n",
            "bytearray(b'Kina')\n",
            "bytearray(b'LINA')\n",
            "1\n"
          ]
        }
      ]
    },
    {
      "cell_type": "code",
      "source": [
        "import json\n",
        "from datetime import datetime\n",
        "\n",
        "# Define la clase DatetimeEncoder que personaliza la serialización JSON.\n",
        "class DatetimeEncoder(json.JSONEncoder):\n",
        "    def default(self, obj):\n",
        "        if isinstance(obj, datetime):\n",
        "            try:\n",
        "                off = obj.utcoffset().seconds\n",
        "            except AttributeError:\n",
        "                off = None\n",
        "            return {\n",
        "                '_meta': '_datetime',\n",
        "                'data': obj.timetuple()[:6] + (obj.microsecond,),\n",
        "                'utcoffset': off,\n",
        "            }\n",
        "        return super().default(obj)\n",
        "\n",
        "# Crear objetos datetime\n",
        "now = datetime.now()\n",
        "now_tz = datetime.now().astimezone()\n",
        "\n",
        "# Crear un diccionario con varios tipos de datos, incluyendo objetos datetime.\n",
        "data = {\n",
        "    'un_entero': 42,\n",
        "    'un_float': 3.14159265,\n",
        "    'un_datetime': now,\n",
        "    'un_datetime_con_zona_horaria': now_tz,\n",
        "}\n",
        "\n",
        "# Serializar el diccionario a JSON utilizando la clase DatetimeEncoder personalizada.\n",
        "json_data = json.dumps(data, cls=DatetimeEncoder)\n",
        "\n",
        "# Imprimir el JSON resultante.\n",
        "print(json_data)\n"
      ],
      "metadata": {
        "id": "t_p9_OslHEfP"
      },
      "execution_count": null,
      "outputs": []
    },
    {
      "cell_type": "code",
      "source": [
        "import json\n",
        "from datetime import datetime, timezone, timedelta\n",
        "\n",
        "# Define la función object_hook para personalizar la deserialización JSON.\n",
        "def object_hook(obj):\n",
        "    try:\n",
        "        if obj['_meta'] == '_datetime':\n",
        "            if obj['utcoffset'] is None:\n",
        "                tz = None\n",
        "            else:\n",
        "                tz = timezone(timedelta(seconds=obj['utcoffset']))\n",
        "            return datetime(*obj['data'], tzinfo=tz)\n",
        "    except KeyError:\n",
        "        return obj\n",
        "\n",
        "# Crear un diccionario con un objeto datetime para serializar.\n",
        "data = {\n",
        "    'un_datetime': datetime(2023, 9, 20, 10, 30, tzinfo=timezone.utc)\n",
        "}\n",
        "\n",
        "# Serializar el diccionario a JSON utilizando la clase DatetimeEncoder personalizada.\n",
        "json_data = json.dumps(data, cls=DatetimeEncoder)\n",
        "\n",
        "# Imprimir la cadena JSON resultante.\n",
        "print(\"JSON serializado:\")\n",
        "print(json_data)\n",
        "\n",
        "# Deserializar la cadena JSON utilizando el object_hook personalizado.\n",
        "data_out = json.loads(json_data, object_hook=object_hook)\n",
        "\n",
        "# Imprimir el objeto deserializado.\n",
        "print(\"\\nObjeto deserializado:\")\n",
        "print(data_out)\n"
      ],
      "metadata": {
        "id": "9jfKupq1HNoI"
      },
      "execution_count": null,
      "outputs": []
    },
    {
      "cell_type": "code",
      "source": [
        "import io\n",
        "\n",
        "# Creamos un objeto StringIO vacío.\n",
        "stream = io.StringIO()\n",
        "\n",
        "# Escribimos una línea de texto en el objeto StringIO.\n",
        "stream.write('Aprendiendo programación en Python.\\n')\n",
        "\n",
        "# Agregamos otra línea de texto al objeto StringIO utilizando la función \"print\".\n",
        "print('¡Conviértete en un ninja de Python!', file=stream)\n",
        "\n",
        "# Obtenemos el contenido del objeto StringIO.\n",
        "contents = stream.getvalue()\n",
        "\n",
        "# Imprimimos el contenido.\n",
        "print(contents)\n",
        "\n",
        "# Cerramos el objeto StringIO.\n",
        "stream.close()"
      ],
      "metadata": {
        "id": "HUff1pCiHZgy"
      },
      "execution_count": null,
      "outputs": []
    },
    {
      "cell_type": "code",
      "source": [
        "import requests\n",
        "\n",
        "# Definimos un diccionario con títulos y URL a las que haremos solicitudes.\n",
        "urls = {\n",
        "    \"get\": \"https://httpbin.org/get?t=learn+python+programming\",\n",
        "    \"headers\": \"https://httpbin.org/headers\",\n",
        "    \"ip\": \"https://httpbin.org/ip\",\n",
        "    \"user-agent\": \"https://httpbin.org/user-agent\",\n",
        "    \"UUID\": \"https://httpbin.org/uuid\",\n",
        "    \"JSON\": \"https://httpbin.org/json\",\n",
        "}\n",
        "\n",
        "# Función para obtener y mostrar el contenido de la respuesta JSON.\n",
        "def get_content(title, url):\n",
        "    resp = requests.get(url)\n",
        "    print(f\"Respuesta para {title}\")\n",
        "    print(resp.json())\n",
        "\n",
        "# Iteramos a través de las URL y llamamos a la función para obtener el contenido.\n",
        "for title, url in urls.items():\n",
        "    get_content(title, url)\n",
        "    print(\"-\" * 40)\n"
      ],
      "metadata": {
        "id": "zDfUUiW3HbKP"
      },
      "execution_count": null,
      "outputs": []
    },
    {
      "cell_type": "code",
      "source": [
        "import pickle\n",
        "from dataclasses import dataclass\n",
        "\n",
        "# Definimos la clase de datos Person usando el decorador @dataclass.\n",
        "@dataclass\n",
        "class Person:\n",
        "    first_name: str\n",
        "    last_name: str\n",
        "    id: int\n",
        "\n",
        "    # Método para saludar.\n",
        "    def greet(self):\n",
        "        print(f'Hola, soy {self.first_name} {self.last_name} y mi ID es {self.id}')\n",
        "\n",
        "# Creamos una lista de objetos Person.\n",
        "people = [Person('Obi-Wan', 'Kenobi', 123),\n",
        "          Person('Anakin', 'Skywalker', 456)]\n",
        "\n",
        "# Guardamos los datos en formato binario en un archivo 'data.pickle'.\n",
        "with open('data.pickle', 'wb') as stream:\n",
        "    pickle.dump(people, stream)\n",
        "\n",
        "# Cargamos los datos desde el archivo 'data.pickle'.\n",
        "with open('data.pickle', 'rb') as stream:\n",
        "    peeps = pickle.load(stream)\n",
        "\n",
        "# Iteramos a través de las personas y las saludamos.\n",
        "for person in peeps:\n",
        "    person.greet()\n"
      ],
      "metadata": {
        "id": "8q7IfySSHfqM"
      },
      "execution_count": null,
      "outputs": []
    },
    {
      "cell_type": "code",
      "source": [
        "import shelve\n",
        "\n",
        "# Definimos la clase Person.\n",
        "class Person:\n",
        "    def __init__(self, name, id):\n",
        "        self.name = name\n",
        "        self.id = id\n",
        "\n",
        "# Abrimos una base de datos shelve llamada 'shelf1.shelve'.\n",
        "with shelve.open('shelf1.shelve') as db:\n",
        "    # Agregamos objetos Person, una lista y otros datos a la base de datos.\n",
        "    db['obi1'] = Person('Obi-Wan', 123)\n",
        "    db['ani'] = Person('Anakin', 456)\n",
        "    db['a_list'] = [2, 3, 5]\n",
        "    db['delete_me'] = 'Tendremos que eliminar esto...'\n",
        "\n",
        "    # Mostramos las claves (keys) de la base de datos.\n",
        "    print(list(db.keys()))  # ['ani', 'delete_me', 'a_list', 'obi1']\n",
        "\n",
        "    # Eliminamos la entrada 'delete_me' de la base de datos.\n",
        "    del db['delete_me']\n",
        "\n",
        "    # Mostramos las claves después de eliminar 'delete_me'.\n",
        "    print(list(db.keys()))  # ['ani', 'a_list', 'obi1']\n",
        "\n",
        "    # Comprobamos si 'delete_me' está en la base de datos (debe ser False).\n",
        "    print('delete_me' in db)  # False\n",
        "\n",
        "    # Comprobamos si 'ani' está en la base de datos (debe ser True).\n",
        "    print('ani' in db)  # True\n",
        "\n",
        "    # Obtenemos la lista 'a_list' de la base de datos, la modificamos y la actualizamos.\n",
        "    a_list = db['a_list']\n",
        "    a_list.append(7)\n",
        "    db['a_list'] = a_list\n",
        "\n",
        "    # Mostramos la lista 'a_list' después de la actualización.\n",
        "    print(db['a_list'])  # [2, 3, 5, 7]\n"
      ],
      "metadata": {
        "id": "Vp6gKTSwHkwy"
      },
      "execution_count": null,
      "outputs": []
    },
    {
      "cell_type": "code",
      "source": [
        "from sqlalchemy.ext.declarative import declarative_base\n",
        "from sqlalchemy import Column, Integer, String, ForeignKey, create_engine\n",
        "from sqlalchemy.orm import relationship\n",
        "\n",
        "# Creamos una instancia de la base declarativa.\n",
        "Base = declarative_base()\n",
        "\n",
        "# Creamos una conexión a la base de datos SQLite en memoria.\n",
        "engine = create_engine('sqlite:///:memory:')\n",
        "\n",
        "# Definimos la clase del modelo 'Person'.\n",
        "class Person(Base):\n",
        "    __tablename__ = 'person'  # Nombre de la tabla en la base de datos\n",
        "    id = Column(Integer, primary_key=True)\n",
        "    name = Column(String)\n",
        "    age = Column(Integer)\n",
        "\n",
        "    # Relación uno a muchos con la clase 'Address'\n",
        "    addresses = relationship(\n",
        "        'Address',\n",
        "        back_populates='person',\n",
        "        order_by='Address.email',\n",
        "        cascade='all, delete-orphan'\n",
        "    )\n",
        "\n",
        "    def __repr__(self):\n",
        "        return f'{self.name}(id={self.id})'\n",
        "\n",
        "# Definimos la clase del modelo 'Address'.\n",
        "class Address(Base):\n",
        "    __tablename__ = 'address'  # Nombre de la tabla en la base de datos\n",
        "    id = Column(Integer, primary_key=True)\n",
        "    email = Column(String)\n",
        "    person_id = Column(ForeignKey('person.id'))\n",
        "\n",
        "    # Relación inversa con la clase 'Person'\n",
        "    person = relationship('Person', back_populates='addresses')\n",
        "\n",
        "    def __str__(self):\n",
        "        return self.email\n",
        "\n",
        "    __repr__ = __str__\n",
        "\n",
        "# Creamos todas las tablas en la base de datos utilizando los modelos definidos.\n",
        "Base.metadata.create_all(engine)\n"
      ],
      "metadata": {
        "id": "9Vdbryr9HrRt"
      },
      "execution_count": null,
      "outputs": []
    }
  ]
}