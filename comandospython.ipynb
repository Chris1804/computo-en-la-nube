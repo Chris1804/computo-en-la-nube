{
  "nbformat": 4,
  "nbformat_minor": 0,
  "metadata": {
    "colab": {
      "provenance": [],
      "authorship_tag": "ABX9TyNe9J2IKYMe9s+m8Wf64XhL",
      "include_colab_link": true
    },
    "kernelspec": {
      "name": "python3",
      "display_name": "Python 3"
    },
    "language_info": {
      "name": "python"
    }
  },
  "cells": [
    {
      "cell_type": "markdown",
      "metadata": {
        "id": "view-in-github",
        "colab_type": "text"
      },
      "source": [
        "<a href=\"https://colab.research.google.com/github/Chris1804/computo-en-la-nube/blob/main/comandospython.ipynb\" target=\"_parent\"><img src=\"https://colab.research.google.com/assets/colab-badge.svg\" alt=\"Open In Colab\"/></a>"
      ]
    },
    {
      "cell_type": "code",
      "execution_count": null,
      "metadata": {
        "colab": {
          "base_uri": "https://localhost:8080/"
        },
        "id": "C5t7lp2_JSaM",
        "outputId": "b56e524e-b987-42a5-c901-6d9d3eb7e344"
      },
      "outputs": [
        {
          "output_type": "stream",
          "name": "stdout",
          "text": [
            "3 221b Baker Street, NW1 6XE, London {'age': 45, 'role': 'CTO', 'SNN': 'AB123456'}\n"
          ]
        }
      ],
      "source": [
        "n=3\n",
        "adress = \"221b Baker Street, NW1 6XE, London\"\n",
        "employee= {\n",
        "  'age': 45,\n",
        "  'role': 'CTO',\n",
        "  'SNN': 'AB123456'\n",
        "\n",
        "\n",
        "}\n",
        "\n",
        "print (n, adress, employee)"
      ]
    },
    {
      "cell_type": "code",
      "source": [
        "class Bici:\n",
        "    def __init__(self, color, material):\n",
        "        self.color = color\n",
        "        self.material = material\n",
        "\n",
        "    def brake(self):\n",
        "        print('braking')\n",
        "\n",
        "Bici_roja = Bici('roja', 'fibra de carbono')\n",
        "Bici_azul = Bici('azul', 'Acero')\n",
        "\n",
        "print(Bici_roja.color)\n",
        "print(Bici_roja.material)\n",
        "print(Bici_azul.color)\n",
        "print(Bici_azul.material)\n",
        "\n",
        "Bici_roja.brake()"
      ],
      "metadata": {
        "colab": {
          "base_uri": "https://localhost:8080/"
        },
        "id": "fUffWvrXJUEn",
        "outputId": "9a16cf89-1970-4e3d-d540-7b2876ac2321"
      },
      "execution_count": null,
      "outputs": [
        {
          "output_type": "stream",
          "name": "stdout",
          "text": [
            "roja\n",
            "fibra de carbono\n",
            "azul\n",
            "Acero\n",
            "braking\n"
          ]
        }
      ]
    },
    {
      "cell_type": "code",
      "source": [
        "str1 = 'esto es un string. hecho con comillas simples.'\n",
        "str2= \"este es otro string, pero hecho con doble comilla\"\n",
        "str3 = '''Este es hecho usando comillas triples,\n",
        "entonces puedo expandirla a multiples lineas'''\n",
        "\n",
        "str4= \"\"\"este tambien\n",
        "es de varias lineas\n",
        "construido con triple comilla doble \"\"\"\n",
        "\n",
        "\n",
        "\n",
        "print (str4)  #B"
      ],
      "metadata": {
        "colab": {
          "base_uri": "https://localhost:8080/"
        },
        "id": "OpGzIo0BzcYO",
        "outputId": "51c04567-80a7-4489-fc64-e466b9f7e362"
      },
      "execution_count": null,
      "outputs": [
        {
          "output_type": "stream",
          "name": "stdout",
          "text": [
            "este tambien\n",
            "es de varias lineas\n",
            "construido con triple comilla doble \n"
          ]
        }
      ]
    },
    {
      "cell_type": "code",
      "source": [
        "s = 'Hello There'\n",
        "print(s.removeprefix('Hell'))\n",
        "'o There'\n",
        "print(s.removesuffix('here'))\n",
        "'Hello T'\n",
        "print(s.removeprefix('Ooops'))\n",
        "'Hello There'"
      ],
      "metadata": {
        "colab": {
          "base_uri": "https://localhost:8080/",
          "height": 87
        },
        "id": "zIUQ-oWqIKsH",
        "outputId": "54b08c34-b051-4c96-b019-1cfaa0d5dbe1"
      },
      "execution_count": null,
      "outputs": [
        {
          "output_type": "stream",
          "name": "stdout",
          "text": [
            "o There\n",
            "Hello T\n",
            "Hello There\n"
          ]
        },
        {
          "output_type": "execute_result",
          "data": {
            "text/plain": [
              "'Hello There'"
            ],
            "application/vnd.google.colaboratory.intrinsic+json": {
              "type": "string"
            }
          },
          "metadata": {},
          "execution_count": 4
        }
      ]
    },
    {
      "cell_type": "code",
      "source": [
        "s= \"El problema es que piensas que tienes tiempo.\"\n",
        "print(s[0])# indexación en la posición 0, que es el primer carácter\n",
        "print(s[5])# indexación en la posición 5, que es el sexto carácter\n",
        "print(s[:3])# corte, especificamos solo la posición de parada\n",
        "print(s[3:])# corte, especificamos solo la posición inicial\n",
        "print(s[2:14])# corte, en ambas posiciones de inicio y parada\n",
        "print(s[2:14:3])# corte, inicio, parada y paso (cada 3 caracteres)\n",
        "print(s[:]) # forma rápida de hacer una copia"
      ],
      "metadata": {
        "colab": {
          "base_uri": "https://localhost:8080/"
        },
        "id": "6phaOmy4J3R7",
        "outputId": "3943e38c-a0e3-4248-e8da-b8a1269113d9"
      },
      "execution_count": null,
      "outputs": [
        {
          "output_type": "stream",
          "name": "stdout",
          "text": [
            "E\n",
            "o\n",
            "El \n",
            "problema es que piensas que tienes tiempo.\n",
            " problema es\n",
            " oe \n",
            "El problema es que piensas que tienes tiempo.\n"
          ]
        }
      ]
    },
    {
      "cell_type": "code",
      "source": [
        "greet_old = 'Hola %s!'\n",
        "print(greet_old % 'Luffy')\n",
        "\n",
        "greet_positional = 'Hola {}!'\n",
        "print(greet_positional.format('zoro'))\n",
        "\n",
        "greet_positional = 'Hola {} {}!'\n",
        "print(greet_positional.format('Mugiwara', 'Luffy'))\n",
        "\n",
        "greet_positional_idx = 'Esto es {0}! a {1} le gusta {0}!'\n",
        "print (greet_positional_idx.format('Python', 'Nami'))\n",
        "\n",
        "print(greet_positional_idx.format('Café', 'Sanji'))\n",
        "\n",
        "keyword = 'Hola mi nombre es {name} {last_name}'\n",
        "print(keyword.format(name='Leon', last_name='S. Kennedy'))"
      ],
      "metadata": {
        "colab": {
          "base_uri": "https://localhost:8080/"
        },
        "id": "i9App3KgYIDu",
        "outputId": "eef5887b-4f5a-457a-c1b5-b07051f536b0"
      },
      "execution_count": null,
      "outputs": [
        {
          "output_type": "stream",
          "name": "stdout",
          "text": [
            "Hola Luffy!\n",
            "Hola zoro!\n",
            "Hola Mugiwara Luffy!\n",
            "Esto es Python! a Nami le gusta Python!\n",
            "Esto es Café! a Sanji le gusta Café!\n",
            "Hola mi nombre es Leon S. Kennedy\n"
          ]
        }
      ]
    },
    {
      "cell_type": "code",
      "source": [
        "#tupla\n",
        "t = ()\n",
        "type(t)\n",
        "\n",
        "one_element_tuple = (42, ) # you need the comma!\n",
        "three_elements_tuple = (1, 3, 5)\n",
        "\n",
        "a, b, c = 1, 2, 3 # tuple for multiple assignment\n",
        "print(a, b, c )# implicit tuple to print with one instruction\n",
        "(1, 2, 3)\n",
        "print(3 in three_elements_tuple) # membership test\n",
        "\n",
        "a, b = 1, 2\n",
        "c = a # we need three lines and a temporary var c\n",
        "a = b\n",
        "b = c\n",
        "a, b # a and b have been swapped\n",
        "(2, 1)\n",
        "\n",
        "a, b = 0, 1\n",
        "a, b = b, a # this is the Pythonic way to do it\n",
        "print(a, b)\n"
      ],
      "metadata": {
        "colab": {
          "base_uri": "https://localhost:8080/"
        },
        "id": "c-_PAelTiv4T",
        "outputId": "13e0e92e-6f0f-436b-8cc5-2f0b9d7b8982"
      },
      "execution_count": null,
      "outputs": [
        {
          "output_type": "stream",
          "name": "stdout",
          "text": [
            "1 2 3\n",
            "True\n",
            "1 0\n"
          ]
        }
      ]
    },
    {
      "cell_type": "code",
      "source": [
        "#listas\n",
        "[]\n",
        "[1,2,3]\n",
        "print([x + 5 for x in [2,3,4]])\n",
        "list((1,2,3,5,7.9))\n",
        "print (list ('hello'))\n",
        "\n",
        "a= [1,2,1,3]\n",
        "a.append(13)\n",
        "print(a)\n",
        "print(a.count(1)) #cuantos 1 hay en el codigo\n",
        "\n",
        "#listas\n",
        "[]\n",
        "[1,2,3]\n",
        "print([x + 5 for x in [2,3,4]])\n",
        "list((1,2,3,5,7.9))\n",
        "print (list ('hello'))\n",
        "\n",
        "a= [1,2,1,3]\n",
        "a.append(13)\n",
        "print(a)\n",
        "print(a.count(1)) #cuantos 1 hay en el codigo\n",
        "\n",
        "a. extend([5,7])\n",
        "print(a)\n",
        "\n",
        "print(a.index(13))# posición del 13 en a lista\n",
        "\n",
        "a.insert(0,17)# insertar el 17 en la posición 0\n",
        "print(a)\n",
        "\n",
        "print(a.pop()) # regresar y remover el ultimo elemento\n",
        "print(a.pop(3)) # regresar y remover el elemento en la posición 3\n",
        "print(a)\n",
        "a.remove(17) #remover el 17\n",
        "print(a)\n",
        "a.reverse()\n",
        "print(a)\n",
        "a.sort()#ordenar la liste\n",
        "print(a)\n",
        "a.clear()#borra todos los elementos\n",
        "print(a)\n",
        "\n",
        "a= list('hello')\n",
        "print(a)\n",
        "a.append(100)\n",
        "print (a)\n",
        "a.extend((1,2,3))\n",
        "a.extend('...')\n",
        "print(a)"
      ],
      "metadata": {
        "colab": {
          "base_uri": "https://localhost:8080/"
        },
        "id": "KAmYo2r4G5Y_",
        "outputId": "69ca836e-89b1-486c-c9ae-1c3fe59133c4"
      },
      "execution_count": null,
      "outputs": [
        {
          "output_type": "stream",
          "name": "stdout",
          "text": [
            "[7, 8, 9]\n",
            "['h', 'e', 'l', 'l', 'o']\n",
            "[1, 2, 1, 3, 13]\n",
            "2\n",
            "[7, 8, 9]\n",
            "['h', 'e', 'l', 'l', 'o']\n",
            "[1, 2, 1, 3, 13]\n",
            "2\n",
            "[1, 2, 1, 3, 13, 5, 7]\n",
            "4\n",
            "[17, 1, 2, 1, 3, 13, 5, 7]\n",
            "7\n",
            "1\n",
            "[17, 1, 2, 3, 13, 5]\n",
            "[1, 2, 3, 13, 5]\n",
            "[5, 13, 3, 2, 1]\n",
            "[1, 2, 3, 5, 13]\n",
            "[]\n",
            "['h', 'e', 'l', 'l', 'o']\n",
            "['h', 'e', 'l', 'l', 'o', 100]\n",
            "['h', 'e', 'l', 'l', 'o', 100, 1, 2, 3, '.', '.', '.']\n"
          ]
        }
      ]
    },
    {
      "cell_type": "code",
      "source": [
        "#Operaciones con listas\n",
        "a=[1,3,5,7]\n",
        "print(min(a)) # valor minimo de lista\n",
        "print(max(a))# valor maximo\n",
        "print(sum(a))# suma todos los valores de a\n",
        "\n",
        "from math import prod\n",
        "print(prod(a)) #producto de todos los valores en la lista\n",
        "\n",
        "print(len(a))#numero de elementos de la lista\n",
        "\n",
        "b=[6,7,8]\n",
        "print(a+b)# `+` con lista significa encadenamiento\n",
        "\n",
        "print(a*2)#se vuelve a repetir la lista"
      ],
      "metadata": {
        "id": "E8p8D220YLqN"
      },
      "execution_count": null,
      "outputs": []
    },
    {
      "cell_type": "code",
      "source": [
        "#bytearray\n",
        "print(bytearray(10))# instancia llena de ceros con una longitud determinada\n",
        "\n",
        "print (bytearray(range(5)))# bytarray de enteros\n",
        "\n",
        "name= bytearray(b'Lina')#bytearry de bytes\n",
        "print(name.replace(b'L',b'K'))#Remplaza el valor\n",
        "print(name.upper())#Hace las letras mayusculas\n",
        "print(name.count(b'a'))#cuenta cuantas 'a' hay"
      ],
      "metadata": {
        "id": "cmClOlb3idB7"
      },
      "execution_count": null,
      "outputs": []
    }
  ]
}