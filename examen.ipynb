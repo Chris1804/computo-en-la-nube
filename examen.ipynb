{
  "nbformat": 4,
  "nbformat_minor": 0,
  "metadata": {
    "colab": {
      "provenance": [],
      "authorship_tag": "ABX9TyOy94EpD9VjVIOcurBD86wy",
      "include_colab_link": true
    },
    "kernelspec": {
      "name": "python3",
      "display_name": "Python 3"
    },
    "language_info": {
      "name": "python"
    }
  },
  "cells": [
    {
      "cell_type": "markdown",
      "metadata": {
        "id": "view-in-github",
        "colab_type": "text"
      },
      "source": [
        "<a href=\"https://colab.research.google.com/github/Chris1804/computo-en-la-nube/blob/main/examen.ipynb\" target=\"_parent\"><img src=\"https://colab.research.google.com/assets/colab-badge.svg\" alt=\"Open In Colab\"/></a>"
      ]
    },
    {
      "cell_type": "code",
      "execution_count": 3,
      "metadata": {
        "colab": {
          "base_uri": "https://localhost:8080/",
          "height": 262
        },
        "id": "Mk3fmclth82g",
        "outputId": "dad079e5-7754-4739-c5c2-5cef8666f6de"
      },
      "outputs": [
        {
          "name": "stdout",
          "output_type": "stream",
          "text": [
            "ingresa el numero5\n"
          ]
        },
        {
          "output_type": "error",
          "ename": "KeyboardInterrupt",
          "evalue": "ignored",
          "traceback": [
            "\u001b[0;31m---------------------------------------------------------------------------\u001b[0m",
            "\u001b[0;31mKeyboardInterrupt\u001b[0m                         Traceback (most recent call last)",
            "\u001b[0;32m<ipython-input-3-f47b2658de04>\u001b[0m in \u001b[0;36m<cell line: 4>\u001b[0;34m()\u001b[0m\n\u001b[1;32m      2\u001b[0m \u001b[0mn\u001b[0m\u001b[0;34m=\u001b[0m \u001b[0mint\u001b[0m\u001b[0;34m(\u001b[0m\u001b[0;36m2\u001b[0m\u001b[0;34m)\u001b[0m\u001b[0;34m\u001b[0m\u001b[0;34m\u001b[0m\u001b[0m\n\u001b[1;32m      3\u001b[0m \u001b[0mnumero\u001b[0m\u001b[0;34m=\u001b[0m\u001b[0mint\u001b[0m\u001b[0;34m(\u001b[0m\u001b[0minput\u001b[0m\u001b[0;34m(\u001b[0m\u001b[0;34m'ingresa el numero'\u001b[0m\u001b[0;34m)\u001b[0m\u001b[0;34m)\u001b[0m\u001b[0;34m\u001b[0m\u001b[0;34m\u001b[0m\u001b[0m\n\u001b[0;32m----> 4\u001b[0;31m \u001b[0;32mwhile\u001b[0m\u001b[0;34m(\u001b[0m\u001b[0;34m(\u001b[0m\u001b[0mes\u001b[0m\u001b[0;34m==\u001b[0m\u001b[0;34m'verdadero'\u001b[0m\u001b[0;34m)\u001b[0m \u001b[0;32mand\u001b[0m \u001b[0;34m(\u001b[0m\u001b[0mn\u001b[0m\u001b[0;34m<\u001b[0m\u001b[0mnumero\u001b[0m\u001b[0;34m)\u001b[0m\u001b[0;34m)\u001b[0m\u001b[0;34m:\u001b[0m\u001b[0;34m\u001b[0m\u001b[0;34m\u001b[0m\u001b[0m\n\u001b[0m\u001b[1;32m      5\u001b[0m     \u001b[0;32mif\u001b[0m\u001b[0;34m(\u001b[0m\u001b[0;34m(\u001b[0m\u001b[0mnumero\u001b[0m\u001b[0;34m%\u001b[0m\u001b[0mn\u001b[0m\u001b[0;34m)\u001b[0m\u001b[0;34m==\u001b[0m \u001b[0;36m0\u001b[0m\u001b[0;34m)\u001b[0m\u001b[0;34m:\u001b[0m\u001b[0;34m\u001b[0m\u001b[0;34m\u001b[0m\u001b[0m\n\u001b[1;32m      6\u001b[0m         \u001b[0mes\u001b[0m\u001b[0;34m=\u001b[0m \u001b[0;34m'f'\u001b[0m\u001b[0;34m\u001b[0m\u001b[0;34m\u001b[0m\u001b[0m\n",
            "\u001b[0;31mKeyboardInterrupt\u001b[0m: "
          ]
        }
      ],
      "source": [
        "es= 'verdadero'\n",
        "n= int(2)\n",
        "numero=int(input('ingresa el numero'))\n",
        "while((es=='verdadero') and (n<numero)):\n",
        "    if((numero%n)== 0):\n",
        "        es= 'falso'\n",
        "    else:\n",
        "        n = n+1;\n",
        "if(es== 'v'):\n",
        "    print('el numero es primo');\n",
        "else:\n",
        "    print('no es primo')"
      ]
    },
    {
      "cell_type": "code",
      "source": [],
      "metadata": {
        "id": "0snz3xAGiyUx"
      },
      "execution_count": null,
      "outputs": []
    },
    {
      "cell_type": "code",
      "source": [
        "def esprimo(numero):\n",
        "    if numero <= 1:\n",
        "        return False\n",
        "    for i in range(2, int(numero) ):\n",
        "        if numero % i == 0:\n",
        "            return False\n",
        "    return True\n",
        "\n",
        "valor = input('Ingrese un valor: ')\n",
        "numero = int(valor)\n",
        "\n",
        "while True:\n",
        "    numero += 1\n",
        "    if esprimo(numero):\n",
        "        print(numero)\n",
        "        break"
      ],
      "metadata": {
        "id": "cteizdVh1H6n"
      },
      "execution_count": null,
      "outputs": []
    },
    {
      "cell_type": "code",
      "source": [
        "\n",
        "num1 = float(input(\"Ingrese el primer número: \"))\n",
        "num2 = float(input(\"Ingrese el segundo número: \"))\n",
        "num3 = float(input(\"Ingrese el tercer número: \"))\n",
        "\n",
        "numeros = [num1, num2, num3]\n",
        "\n",
        "# Ordenar la lista de números\n",
        "numeros.sort()\n",
        "\n",
        "# Calcular la mediana\n",
        "mediana = numeros[1]\n",
        "\n",
        "# Imprimir la mediana\n",
        "print(\"La mediana de los tres números es:\", medianaa)"
      ],
      "metadata": {
        "colab": {
          "base_uri": "https://localhost:8080/"
        },
        "id": "zIM8kcot5_mn",
        "outputId": "6450d7dd-9b7a-4543-9f0a-06b1d06f30fb"
      },
      "execution_count": 8,
      "outputs": [
        {
          "output_type": "stream",
          "name": "stdout",
          "text": [
            "Ingrese el primer número: 3\n",
            "Ingrese el segundo número: 4\n",
            "Ingrese el tercer número: 6\n",
            "La mediana de los tres números es: <function medianaa at 0x7d4bed277370>\n"
          ]
        }
      ]
    },
    {
      "cell_type": "code",
      "source": [
        "import random\n",
        "import string\n",
        "\n",
        "def generar_contrasena():\n",
        "    longitud = random.randint(7, 10)  # Longitud aleatoria entre 7 y 10 caracteres\n",
        "    contrasena = ''.join(random.choice(string.printable[33:127]) for _ in range(longitud))\n",
        "    return contrasena\n",
        "\n",
        "# Generar y mostrar la contraseña\n",
        "contrasena_generada = generar_contrasena()\n",
        "print(\"Contraseña generada:\", contrasena_generada)"
      ],
      "metadata": {
        "id": "VBug_-zO-eak"
      },
      "execution_count": null,
      "outputs": []
    },
    {
      "cell_type": "code",
      "source": [
        "import math\n",
        "\n",
        "def calcular_hipotenusa(cateto1, cateto2):\n",
        "    return math.sqrt(cateto1 ** 2 + cateto2 ** 2)\n",
        "\n",
        "# Pedir al usuario que ingrese las longitudes de los catetos\n",
        "cateto1 = float(input(\"Ingrese la longitud del primer cateto: \"))\n",
        "cateto2 = float(input(\"Ingrese la longitud del segundo cateto: \"))\n",
        "\n",
        "# Calcular la hipotenusa usando la función\n",
        "hipotenusa = calcular_hipotenusa(cateto1, cateto2)\n",
        "\n",
        "# Imprimir el resultado\n",
        "print(f\"La longitud de la hipotenusa es: {hipotenusa}\")\n"
      ],
      "metadata": {
        "id": "QJmh6qo56BQm"
      },
      "execution_count": null,
      "outputs": []
    }
  ]
}