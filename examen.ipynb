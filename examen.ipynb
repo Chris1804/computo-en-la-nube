{
  "nbformat": 4,
  "nbformat_minor": 0,
  "metadata": {
    "colab": {
      "provenance": [],
      "authorship_tag": "ABX9TyOnzV42KTZ+p8e1Opc2pmUv",
      "include_colab_link": true
    },
    "kernelspec": {
      "name": "python3",
      "display_name": "Python 3"
    },
    "language_info": {
      "name": "python"
    }
  },
  "cells": [
    {
      "cell_type": "markdown",
      "metadata": {
        "id": "view-in-github",
        "colab_type": "text"
      },
      "source": [
        "<a href=\"https://colab.research.google.com/github/Chris1804/computo-en-la-nube/blob/main/examen.ipynb\" target=\"_parent\"><img src=\"https://colab.research.google.com/assets/colab-badge.svg\" alt=\"Open In Colab\"/></a>"
      ]
    },
    {
      "cell_type": "code",
      "execution_count": null,
      "metadata": {
        "id": "Mk3fmclth82g"
      },
      "outputs": [],
      "source": [
        "es= 'verdadero'\n",
        "n= int(2)\n",
        "numero=int(input('ingresa el numero'))\n",
        "while((es=='verdadero') and (n<numero)):\n",
        "    if((numero%n)== 0):\n",
        "        es= 'falso'\n",
        "    else:\n",
        "        n = n+1;\n",
        "if(es== 'verdadero'):\n",
        "    print('el numero es primo');\n",
        "else:\n",
        "    print('no es primo')"
      ]
    },
    {
      "cell_type": "code",
      "source": [],
      "metadata": {
        "id": "HpToVDCG5_Ki"
      },
      "execution_count": null,
      "outputs": []
    },
    {
      "cell_type": "code",
      "source": [
        "\n",
        "\n",
        "\n",
        "\n"
      ],
      "metadata": {
        "id": "0snz3xAGiyUx"
      },
      "execution_count": null,
      "outputs": []
    },
    {
      "cell_type": "code",
      "source": [
        "def esprimo(numero):\n",
        "\n",
        "    for n in range(2, int(numero) ):\n",
        "        if numero % n == 0:\n",
        "            return False\n",
        "    return True\n",
        "\n",
        "valor = input('Ingrese un valor: ')\n",
        "numero = int(valor)\n",
        "\n",
        "while True:\n",
        "    numero += 1\n",
        "    if esprimo(numero):\n",
        "        print(numero)\n",
        "        break"
      ],
      "metadata": {
        "colab": {
          "base_uri": "https://localhost:8080/"
        },
        "id": "cteizdVh1H6n",
        "outputId": "9594f0f0-19c3-4ccf-e3b1-31e4592ecbc6"
      },
      "execution_count": null,
      "outputs": [
        {
          "output_type": "stream",
          "name": "stdout",
          "text": [
            "Ingrese un valor: 4\n",
            "5\n"
          ]
        }
      ]
    },
    {
      "cell_type": "code",
      "source": [],
      "metadata": {
        "colab": {
          "base_uri": "https://localhost:8080/"
        },
        "id": "uSBdsHqMgJ2z",
        "outputId": "ff7e393a-91b8-4ceb-9611-2aee209f385c"
      },
      "execution_count": null,
      "outputs": [
        {
          "output_type": "stream",
          "name": "stdout",
          "text": [
            "Ingrese un valor: 4\n",
            "es primo\n"
          ]
        }
      ]
    },
    {
      "cell_type": "code",
      "source": [
        "\n",
        "num1 = float(input(\"Ingrese el primer número: \"))\n",
        "num2 = float(input(\"Ingrese el segundo número: \"))\n",
        "num3 = float(input(\"Ingrese el tercer número: \"))\n",
        "\n",
        "numeros = [num1, num2, num3]\n",
        "\n",
        "\n",
        "numeros.sort()\n",
        "\n",
        "\n",
        "mediana = numeros[1]\n",
        "\n",
        "\n",
        "print(\"La mediana de los tres números es:\", mediana)"
      ],
      "metadata": {
        "colab": {
          "base_uri": "https://localhost:8080/"
        },
        "id": "zIM8kcot5_mn",
        "outputId": "8313992b-0a40-4fb0-81bb-db22f26d9b15"
      },
      "execution_count": null,
      "outputs": [
        {
          "output_type": "stream",
          "name": "stdout",
          "text": [
            "Ingrese el primer número: 3\n",
            "Ingrese el segundo número: 6\n",
            "Ingrese el tercer número: 7\n",
            "La mediana de los tres números es: 6.0\n"
          ]
        }
      ]
    },
    {
      "cell_type": "code",
      "source": [
        "import random\n",
        "import string\n",
        "\n",
        "def generar_contraseña():\n",
        "    longitud = random.randint(7, 10)\n",
        "    contraseña = ''.join(random.choice(string.printable[33:127]) for _ in range(longitud))\n",
        "    return contraseña\n",
        "\n",
        "contraseña_generada = generar_contraseña()\n",
        "print(\"Contraseña generada:\", contraseña_generada)"
      ],
      "metadata": {
        "colab": {
          "base_uri": "https://localhost:8080/"
        },
        "id": "VBug_-zO-eak",
        "outputId": "00b8f46e-0bc7-450a-a1cc-ec6d35b4f28f"
      },
      "execution_count": null,
      "outputs": [
        {
          "output_type": "stream",
          "name": "stdout",
          "text": [
            "Contraseña generada: I= +VQyV\n"
          ]
        }
      ]
    },
    {
      "cell_type": "code",
      "source": [
        "import math\n",
        "\n",
        "def calcular_hipotenusa(cateto1, cateto2):\n",
        "    return math.sqrt(cateto1 ** 2 + cateto2 ** 2)\n",
        "\n",
        "# Pedir al usuario que ingrese las longitudes de los catetos\n",
        "cateto1 = float(input(\"Ingrese la longitud del primer cateto: \"))\n",
        "cateto2 = float(input(\"Ingrese la longitud del segundo cateto: \"))\n",
        "\n",
        "# Calcular la hipotenusa usando la función\n",
        "hipotenusa = calcular_hipotenusa(cateto1, cateto2)\n",
        "\n",
        "# Imprimir el resultado\n",
        "print(f\"La longitud de la hipotenusa es: {hipotenusa}\")\n"
      ],
      "metadata": {
        "colab": {
          "base_uri": "https://localhost:8080/"
        },
        "id": "QJmh6qo56BQm",
        "outputId": "3076b952-ae1e-4412-da85-cb552838239a"
      },
      "execution_count": null,
      "outputs": [
        {
          "output_type": "stream",
          "name": "stdout",
          "text": [
            "Ingrese la longitud del primer cateto: 5\n",
            "Ingrese la longitud del segundo cateto: 8\n",
            "La longitud de la hipotenusa es: 9.433981132056603\n"
          ]
        }
      ]
    }
  ]
}